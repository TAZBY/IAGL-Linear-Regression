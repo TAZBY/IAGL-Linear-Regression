{
 "cells": [
  {
   "cell_type": "code",
   "execution_count": 3,
   "metadata": {},
   "outputs": [],
   "source": [
    "import pickle\n",
    "import numpy as np\n",
    "import pandas as pd\n",
    "from imblearn.over_sampling import KMeansSMOTE\n",
    "from sklearn.metrics import f1_score, recall_score, precision_score, classification_report, balanced_accuracy_score\n",
    "from sklearn.model_selection import StratifiedKFold\n",
    "from sklearn.ensemble import RandomForestClassifier\n",
    "from sklearn.preprocessing import MinMaxScaler\n",
    "from sklearn.ensemble import RandomForestClassifier\n",
    "from sklearn.linear_model import LinearRegression\n",
    "import glob\n",
    "import seaborn as sns\n",
    "import joblib\n",
    "from collections import Counter\n",
    "import os\n",
    "import re\n",
    "import subprocess\n",
    "import glob\n",
    "from git import Repo, Git\n",
    "\n",
    "from matplotlib import pyplot as plt"
   ]
  },
  {
   "cell_type": "markdown",
   "metadata": {
    "pycharm": {
     "name": "#%% md\n"
    }
   },
   "source": [
    "Fonction permettant de supprimer des colonnes dans un dataframe Pandas."
   ]
  },
  {
   "cell_type": "code",
   "execution_count": 11,
   "metadata": {
    "pycharm": {
     "name": "#%%\n"
    }
   },
   "outputs": [],
   "source": [
    "def delete_unused_columns(df):\n",
    "    columns_to_drop = [\"name\", \"followers\", \"commit_count_a\", \"source\", \"job\", \"name_without_spaces\", \"from\", \"to\",\n",
    "                       \"project\", \"index\", \"AddSM\",\"DelSM\",\"ChurnSM\",\"SumAddDelSM\",\"SumAddDel\"]\n",
    "\n",
    "    for column_to_drop in columns_to_drop:\n",
    "        if column_to_drop in df.columns :\n",
    "            df.drop(columns=[column_to_drop], inplace=True)\n",
    "\n",
    "    df[\"DiP\"] = df[\"DiP\"].round()\n",
    "    df[\"DiP\"].replace(0, 1, inplace=True)"
   ]
  },
  {
   "cell_type": "markdown",
   "metadata": {},
   "source": [
    "Fonction permettant d'appliquer un logarithme sur des colonnes d'un dataframe Pandas."
   ]
  },
  {
   "cell_type": "code",
   "execution_count": 13,
   "metadata": {
    "pycharm": {
     "name": "#%%\n"
    }
   },
   "outputs": [],
   "source": [
    "def log_dataframe(df):\n",
    "\n",
    "    columns_4_log = [\"SumAddDelLOC\", \"DiP\", \"NoC\", \"SumAddDelF\",\n",
    "                     \"SumAddDelSAM\", \"AddLOC\", \"DelLOC\", \"AddSAM\", \"DelSAM\"]\n",
    "\n",
    "    for column in columns_4_log:\n",
    "        df[column] = np.log(df[column] + 1)"
   ]
  },
  {
   "cell_type": "markdown",
   "metadata": {
    "pycharm": {
     "name": "#%% md\n"
    }
   },
   "source": [
    "Scores the classifier using a k-fold (here a Stratified 4-fold with shuffle)\n",
    "Synthetic data are created to train the classifier for each fold.\n",
    "Real data are used to compute measures for the classifier."
   ]
  },
  {
   "cell_type": "markdown",
   "metadata": {},
   "source": [
    "## 1) Récupération des métriques de BroadleafCommerce\n",
    "\n",
    "Nous travaillerons avec les versions majeures et mineures (voir [semantic versioning](https://semver.org/lang/fr/)) du projet BroadleafCommerce disponible sur GitHub : [https://github.com/BroadleafCommerce/BroadleafCommerce](https://github.com/BroadleafCommerce/BroadleafCommerce). Pour cela, nous allons cloner le dépôt puis récupérer les tags des versions et les filtrer par une expression régulière. Puis, pour chacun de ces tags, \"checkouter\" la version correspondante. Nous lancerons ensuite l'extraction des métriques à l'aide de l'application Java : ck ([https://github.com/mauricioaniche/ck](https://github.com/mauricioaniche/ck)). Cette application créée par Maurício Aniche est dédiée à l'extraction de plusieurs métriques logicielles dont le nombre de lignes de code que nous utiliserons plus tard. \n",
    "\n",
    "Dans ce TP, nous allons extraire \"manuellement\" métriques mais, les plateformes d'intégration continue comme Jenkins ou les outils d'analyse statique comme SonarQube permettent également de calculer des métriques de manière automatique à chaque version releasée ou commitée sur votre système de gestion de versions. \n",
    "\n",
    "\n",
    "Pour notre cas d'étude, nous allons : \n",
    "\n",
    "1. Utiliser le package GitPython et sa [documentation](https://gitpython.readthedocs.io/en/stable/)) pour :\n",
    "\n",
    "* Cloner le dépôt Github de BroadleafCommerce à l'endroit indiqué par la variable <code> PATH_TO_REPO </code> à l'aide de la méthode <code> Repo.clone_from </code>\n",
    "* Créer un objet <code> Repo </code> qui vous permettra de récupérer les tags des versions\n",
    "* Créer un objet <code> Git </code> qui vous permettra de \"checkouter\" la version désirée\n",
    "\n",
    "2. Récupérer la liste des tags du dépôt à l'aide de l'objet <code> Repo </code>.\n",
    "\n",
    "3. Itérer sur la liste des tags, où pour chaque tag vous allez : \n",
    "\n",
    "* Vérifier par une regexp que l'on se situe sur des tags ayant la forme <code> broadleaf-X-Y-0-GA </code> où <code> X </code> et <code> Y </code> peuvent varier entre 0 et 9 et où le tag a une taille fixe (utilisation de ^ et $ pour matérialiser le début et la fin de chaine de caractères)\n",
    "* Vérifier que l'on ne va pas extraire les métriques d'une version déjà présente dans le dossier <code> ck_metrics </code>\n",
    "* **/!\\ Une fois ces vérifications effectuées,** checkouter la version désirée à l'aide du tag\n",
    "* Lancer l'extraction des métriques à l'aide de l'instruction python suivante : <code> subprocess.run([\"java\", \"-jar\", \"ck.jar\", \"..\" + os.sep + \"BroadleafCommerce\"]) </code>\n",
    "* Renommer le fichier <code> class.csv </code> en <code> class_[tag].csv </code> et supprimer les fichiers <code> variable.csv, methode.csv, field.csv </code> créés par ck. "
   ]
  },
  {
   "cell_type": "code",
   "execution_count": 4,
   "metadata": {},
   "outputs": [],
   "source": [
    "# clonage du depôt Github\n",
    "pathToStore = 'C:/Users/zaino/OneDrive/Bureau/M2 GL/IA GL/TPs/TP-metrique/TP-Master-MTP-GL-IA4GL/BroadleafCommerce'\n",
    "PATH_TO_REPO = 'https://github.com/BroadleafCommerce/BroadleafCommerce.git'\n",
    "Repo.clone_from(PATH_TO_REPO,pathToStore)"
   ]
  },
  {
   "cell_type": "code",
   "execution_count": 6,
   "metadata": {
    "scrolled": false
   },
   "outputs": [
    {
     "name": "stdout",
     "output_type": "stream",
     "text": [
      "separation\n",
      "['class_broadleaf-5.2.0-GA.csv', 'class_broadleaf-6.0.0-GA.csv', 'class_broadleaf-6.1.0-GA.csv', 'class_broadleaf-6.2.0-GA.csv']\n"
     ]
    }
   ],
   "source": [
    "import git\n",
    "import re\n",
    "import os\n",
    "path = 'C:/Users/zaino/OneDrive/Bureau/M2 GL/IA GL/TPs/TP-metrique/TP-Master-MTP-GL-IA4GL/ck_metrics'\n",
    "repo = git.Repo(pathToStore)\n",
    "tags = sorted(repo.tags, key=lambda t: t.commit.committed_datetime)\n",
    "#latest_tag = tags[-1]\n",
    "#print(latest_tag)\n",
    "extractedTags = []\n",
    "alreadyExist = []\n",
    "notExist = []\n",
    "#Getting all tags with the good formats as required.\n",
    "for a in tags:\n",
    "    x = re.search(\"^broadleaf\\-[0-9].[0-9].0\\-GA$\",str(a))\n",
    "    if x:\n",
    "        classtag = str('class_'+str(a)+'.csv')\n",
    "        extractedTags.append(classtag)\n",
    "        #print(classtag)\n",
    "print(\"separation\")  \n",
    "#Get tags those do not exist in the ck_metrics directory for being nextly dowloaded.\n",
    "notExist = extractedTags\n",
    "for file in glob.glob(os.path.join(path,'*.csv')):\n",
    "            filename = str(file).split(\"\\\\\")[-1]  \n",
    "            if str(filename) in extractedTags:\n",
    "                notExist.remove(str(filename))\n",
    "                \n",
    "print(notExist)           \n",
    "for a in notExist:\n",
    "    subprocess.run([\"java\", \"-jar\", \"ck.jar\", \"..\" + os.sep + \"BroadleafCommerce\"])\n",
    "                \n",
    "\n"
   ]
  },
  {
   "cell_type": "code",
   "execution_count": 61,
   "metadata": {},
   "outputs": [],
   "source": [
    "#PATH_TO_REPO = \".\"+os.sep+\"BroadleafCommerce\"\n",
    "\n",
    "#Créer les objets Git et repo ici avant l'instruction change directory\n",
    "\n",
    "#wd_notebook = os.getcwd()\n",
    "#os.chdir(\".\" + os.sep + \"ck_metrics\")\n",
    "\n",
    "#Placer l'ensemble du code nécessaire à l'extraction ici\n",
    "\n",
    "         \n",
    "\n",
    "#os.chdir(wd_notebook)"
   ]
  },
  {
   "cell_type": "code",
   "execution_count": null,
   "metadata": {},
   "outputs": [],
   "source": []
  },
  {
   "cell_type": "markdown",
   "metadata": {},
   "source": [
    "## 2) Utilisation du classifieur de développeurs (Random Forest)\n",
    " \n",
    "Nous allons maintenant utiliser le classifieur de développeurs sauvegardé sous le nom \"classifier_rf.pkl\". \n",
    "Pour cela nous allons charger le classifieur à l'aide de <code> joblib.load </code> ([documentation](https://joblib.readthedocs.io/en/latest/generated/joblib.load.html))\n",
    "\n",
    "2. Nous allons utiliser les métriques (23) associées à des développeurs, celles-ci sont stockées dans le dossier <code> metrics_by_dev </code>. Chaque fichier de ce dossier est nommé en fonction de la version sur laquelle les métriques ont été extraites. Nous allons donc itérer sur la **liste de ces fichiers ordonnée par ordre alphanumérique**. \n",
    "\n",
    "4. Pour chaque fichier CSV, l'ouvrir avec Pandas en tant que Dataframe via la fonction : <code> pd.read_csv </code> ([documentation](https://pandas.pydata.org/pandas-docs/stable/reference/api/pandas.read_csv.html))\n",
    "\n",
    "3. Ces métriques sont à l'état \"brut\" dans les fichiers, c'est-à-dire qu'elles ont des échelles et des unités différentes. Le classifieur Random Forest que nous avons entrainé lui, ne travaille qu'avec des variables comprises dans [-1;1]. Ici, il va donc falloir faire une mise à l'échelle des variables à l'aide d'un scaler de Scikit-Learn : <code> MinMaxScaler </code> ([documentation](https://scikit-learn.org/stable/modules/generated/sklearn.preprocessing.MinMaxScaler.html#sklearn.preprocessing.MinMaxScaler)). De plus, afin de réduire les écarts de valeurs sur certaines variables nous allons appliquer un logarithme sur 11 de ces dernières à l'aide de la fonction  <code> log_dataframe </code> de ce Notebook.\n",
    "\n",
    "5. Prédire ensuite la catégorie des développeurs (\"NSSE\" ou \"SSE\") puis la stocker dans le dictionnaire <code> dict_classified_dev </code>. Faire un affichage à l'aide print pour visualiser l'évolution du nombre de dévoloppeurs dans chaque catégorie au fur et à mesure des versions.  \n"
   ]
  },
  {
   "cell_type": "code",
   "execution_count": 144,
   "metadata": {},
   "outputs": [
    {
     "name": "stdout",
     "output_type": "stream",
     "text": [
      "version :  broadleaf-1.6.0-GA   Number of SSE : 1 Number of NSSE : 3\n",
      "version :  broadleaf-2.0.0-GA   Number of SSE : 6 Number of NSSE : 2\n",
      "version :  broadleaf-2.1.0-GA   Number of SSE : 6 Number of NSSE : 2\n",
      "version :  broadleaf-2.2.0-GA   Number of SSE : 6 Number of NSSE : 4\n",
      "version :  broadleaf-2.3.0-GA   Number of SSE : 6 Number of NSSE : 4\n",
      "version :  broadleaf-2.4.0-GA   Number of SSE : 6 Number of NSSE : 4\n",
      "version :  broadleaf-3.0.0-GA   Number of SSE : 6 Number of NSSE : 5\n",
      "version :  broadleaf-3.1.0-GA   Number of SSE : 6 Number of NSSE : 10\n",
      "version :  broadleaf-4.0.0-GA   Number of SSE : 7 Number of NSSE : 21\n",
      "version :  broadleaf-4.1.0-GA   Number of SSE : 7 Number of NSSE : 25\n",
      "version :  broadleaf-5.0.0-GA   Number of SSE : 11 Number of NSSE : 21\n",
      "version :  broadleaf-5.1.0-GA   Number of SSE : 12 Number of NSSE : 23\n",
      "version :  broadleaf-5.2.0-GA   Number of SSE : 12 Number of NSSE : 29\n",
      "version :  broadleaf-6.0.0-GA   Number of SSE : 14 Number of NSSE : 37\n",
      "version :  broadleaf-6.1.0-GA   Number of SSE : 14 Number of NSSE : 42\n",
      "Number of SSE : 120\n",
      "Number of NSSE : 232\n",
      "ALL DICTIONNARY CONTAINING PREDICTED VALUES\n",
      "{'SSE': ['SSE', 'SSE', 'SSE', 'SSE', 'SSE', 'SSE', 'SSE', 'SSE', 'SSE', 'SSE', 'SSE', 'SSE', 'SSE', 'SSE', 'SSE', 'SSE', 'SSE', 'SSE', 'SSE', 'SSE', 'SSE', 'SSE', 'SSE', 'SSE', 'SSE', 'SSE', 'SSE', 'SSE', 'SSE', 'SSE', 'SSE', 'SSE', 'SSE', 'SSE', 'SSE', 'SSE', 'SSE', 'SSE', 'SSE', 'SSE', 'SSE', 'SSE', 'SSE', 'SSE', 'SSE', 'SSE', 'SSE', 'SSE', 'SSE', 'SSE', 'SSE', 'SSE', 'SSE', 'SSE', 'SSE', 'SSE', 'SSE', 'SSE', 'SSE', 'SSE', 'SSE', 'SSE', 'SSE', 'SSE', 'SSE', 'SSE', 'SSE', 'SSE', 'SSE', 'SSE', 'SSE', 'SSE', 'SSE', 'SSE', 'SSE', 'SSE', 'SSE', 'SSE', 'SSE', 'SSE', 'SSE', 'SSE', 'SSE', 'SSE', 'SSE', 'SSE', 'SSE', 'SSE', 'SSE', 'SSE', 'SSE', 'SSE', 'SSE', 'SSE', 'SSE', 'SSE', 'SSE', 'SSE', 'SSE', 'SSE', 'SSE', 'SSE', 'SSE', 'SSE', 'SSE', 'SSE', 'SSE', 'SSE', 'SSE', 'SSE', 'SSE', 'SSE', 'SSE', 'SSE', 'SSE', 'SSE', 'SSE', 'SSE', 'SSE', 'SSE'], 'NSSE': ['NSSE', 'NSSE', 'NSSE', 'NSSE', 'NSSE', 'NSSE', 'NSSE', 'NSSE', 'NSSE', 'NSSE', 'NSSE', 'NSSE', 'NSSE', 'NSSE', 'NSSE', 'NSSE', 'NSSE', 'NSSE', 'NSSE', 'NSSE', 'NSSE', 'NSSE', 'NSSE', 'NSSE', 'NSSE', 'NSSE', 'NSSE', 'NSSE', 'NSSE', 'NSSE', 'NSSE', 'NSSE', 'NSSE', 'NSSE', 'NSSE', 'NSSE', 'NSSE', 'NSSE', 'NSSE', 'NSSE', 'NSSE', 'NSSE', 'NSSE', 'NSSE', 'NSSE', 'NSSE', 'NSSE', 'NSSE', 'NSSE', 'NSSE', 'NSSE', 'NSSE', 'NSSE', 'NSSE', 'NSSE', 'NSSE', 'NSSE', 'NSSE', 'NSSE', 'NSSE', 'NSSE', 'NSSE', 'NSSE', 'NSSE', 'NSSE', 'NSSE', 'NSSE', 'NSSE', 'NSSE', 'NSSE', 'NSSE', 'NSSE', 'NSSE', 'NSSE', 'NSSE', 'NSSE', 'NSSE', 'NSSE', 'NSSE', 'NSSE', 'NSSE', 'NSSE', 'NSSE', 'NSSE', 'NSSE', 'NSSE', 'NSSE', 'NSSE', 'NSSE', 'NSSE', 'NSSE', 'NSSE', 'NSSE', 'NSSE', 'NSSE', 'NSSE', 'NSSE', 'NSSE', 'NSSE', 'NSSE', 'NSSE', 'NSSE', 'NSSE', 'NSSE', 'NSSE', 'NSSE', 'NSSE', 'NSSE', 'NSSE', 'NSSE', 'NSSE', 'NSSE', 'NSSE', 'NSSE', 'NSSE', 'NSSE', 'NSSE', 'NSSE', 'NSSE', 'NSSE', 'NSSE', 'NSSE', 'NSSE', 'NSSE', 'NSSE', 'NSSE', 'NSSE', 'NSSE', 'NSSE', 'NSSE', 'NSSE', 'NSSE', 'NSSE', 'NSSE', 'NSSE', 'NSSE', 'NSSE', 'NSSE', 'NSSE', 'NSSE', 'NSSE', 'NSSE', 'NSSE', 'NSSE', 'NSSE', 'NSSE', 'NSSE', 'NSSE', 'NSSE', 'NSSE', 'NSSE', 'NSSE', 'NSSE', 'NSSE', 'NSSE', 'NSSE', 'NSSE', 'NSSE', 'NSSE', 'NSSE', 'NSSE', 'NSSE', 'NSSE', 'NSSE', 'NSSE', 'NSSE', 'NSSE', 'NSSE', 'NSSE', 'NSSE', 'NSSE', 'NSSE', 'NSSE', 'NSSE', 'NSSE', 'NSSE', 'NSSE', 'NSSE', 'NSSE', 'NSSE', 'NSSE', 'NSSE', 'NSSE', 'NSSE', 'NSSE', 'NSSE', 'NSSE', 'NSSE', 'NSSE', 'NSSE', 'NSSE', 'NSSE', 'NSSE', 'NSSE', 'NSSE', 'NSSE', 'NSSE', 'NSSE', 'NSSE', 'NSSE', 'NSSE', 'NSSE', 'NSSE', 'NSSE', 'NSSE', 'NSSE', 'NSSE', 'NSSE', 'NSSE', 'NSSE', 'NSSE', 'NSSE', 'NSSE', 'NSSE', 'NSSE', 'NSSE', 'NSSE', 'NSSE', 'NSSE', 'NSSE', 'NSSE', 'NSSE', 'NSSE', 'NSSE', 'NSSE', 'NSSE', 'NSSE', 'NSSE', 'NSSE', 'NSSE', 'NSSE', 'NSSE']}\n",
      "[1, 6, 6, 6, 6, 6, 6, 6, 7, 7, 11, 12, 12, 14, 14]\n"
     ]
    }
   ],
   "source": [
    "dict_classified_dev = {'SSE' : [], 'NSSE' : []}\n",
    "list_versions = []\n",
    "nbrSSE = []\n",
    "localPath = 'C:/Users/zaino/OneDrive/Bureau/M2 GL/IA GL/TPs/TP-metrique/TP-Master-MTP-GL-IA4GL/'\n",
    "temp_dic = {'SSE' : [], 'NSSE' : []}\n",
    "#loading trained classifier\n",
    "classifier = joblib.load(localPath+'classifier_rf.pkl')\n",
    "#loading files\n",
    "for file in glob.glob(os.path.join(localPath+'metrics_by_dev','*.csv')):\n",
    "    filename = str(file).split(\"\\\\\")[-1].split(\"_\")[1]  \n",
    "    dff = pd.read_csv(file)\n",
    "    delete_unused_columns(dff)\n",
    "    scaler = MinMaxScaler(feature_range=(-1, 1))\n",
    "    scaled = scaler.fit_transform(dff)\n",
    "    #log_dataframe(scaled)\n",
    "    #display(dff)\n",
    "    predicted_value = classifier.predict(scaled)\n",
    "    for p_v in predicted_value:\n",
    "        if p_v =='SSE':\n",
    "            dict_classified_dev[\"SSE\"].append(p_v)\n",
    "            temp_dic[\"SSE\"].append(p_v)\n",
    "        else:\n",
    "            dict_classified_dev[\"NSSE\"].append(p_v)\n",
    "            temp_dic[\"NSSE\"].append(p_v)\n",
    "            \n",
    "    print(\"version : \",filename,\"  Number of SSE :\", temp_dic[\"SSE\"].count('SSE'), \"Number of NSSE :\", temp_dic[\"NSSE\"].count('NSSE'))\n",
    "    #print(\"version : \",filename,\"  Number of NSSE :\", temp_dic[\"NSSE\"].count('NSSE'))\n",
    "    nbrSSE.append(temp_dic[\"SSE\"].count('SSE'))\n",
    "    temp_dic = {'SSE' : [], 'NSSE' : []}\n",
    "\n",
    "#Number of SSE\n",
    "print(\"Number of SSE :\", dict_classified_dev[\"SSE\"].count('SSE'))\n",
    "#Number of NSSE  \n",
    "print(\"Number of NSSE :\", dict_classified_dev[\"NSSE\"].count('NSSE'))\n",
    "print(\"ALL DICTIONNARY CONTAINING PREDICTED VALUES\")\n",
    "print(dict_classified_dev)\n",
    "print(nbrSSE)"
   ]
  },
  {
   "cell_type": "markdown",
   "metadata": {},
   "source": [
    "## 3) Extraction du nombre total de lignes de code depuis les fichiers CSV\n",
    "\n",
    "Nous avons classé les développeurs par catégorie pour chaque version de BroadleafCommerce. \n",
    "L'étape suivante est d'extraire le nombre total de ligne de code pour chaque version de BroadleafCommerce. Pour cela chacun des fichiers triés par ordre alphanumérique croissant doit être ouvert avec Pandas. Vous devez ensuite faire la somme de la colonne \"loc\" des fichiers et l'ajouter à la liste <code> loc_by_versions </code>."
   ]
  },
  {
   "cell_type": "code",
   "execution_count": 245,
   "metadata": {},
   "outputs": [
    {
     "name": "stdout",
     "output_type": "stream",
     "text": [
      "[32101, 64523, 66054, 74415, 89322, 89352, 106054.0, 136207.0, 164571.0, 174353.0, 209112.0, 220821.0, 229464.0, 253299.0, 249422.0]\n",
      "['broadleaf-1.6.0-GA', 'broadleaf-2.0.0-GA', 'broadleaf-2.1.0-GA', 'broadleaf-2.2.0-GA', 'broadleaf-2.3.0-GA', 'broadleaf-2.4.0-GA', 'broadleaf-3.0.0-GA', 'broadleaf-3.1.0-GA', 'broadleaf-4.0.0-GA', 'broadleaf-4.1.0-GA', 'broadleaf-5.0.0-GA', 'broadleaf-5.1.0-GA', 'broadleaf-5.2.0-GA', 'broadleaf-6.0.0-GA', 'broadleaf-6.1.0-GA']\n"
     ]
    }
   ],
   "source": [
    "#Liste où ajouter les loc de chaque version \n",
    "loc_by_versions = []\n",
    "versions = []\n",
    "for file in glob.glob(os.path.join(localPath+'metrics_by_dev','*.csv')):\n",
    "    version = str(file).split(\"\\\\\")[-1].split(\"_\")[1]\n",
    "    versions.append(version)\n",
    "    df = pd.read_csv(file)\n",
    "    nb_line_of_code = df['AddLOC'].sum()\n",
    "    loc_by_versions.append(nb_line_of_code)\n",
    "print(loc_by_versions)\n",
    "print(versions)"
   ]
  },
  {
   "cell_type": "markdown",
   "metadata": {},
   "source": [
    "## 4) Tracé du graphique du nombre de développeurs SSE et nombre de lignes de code par version de BroadleafCommerce\n",
    "\n",
    "L'objectif ici est de tracer à l'aide du package matplotlib ([documentation](https://matplotlib.org/stable/contents.html)) un graphique à 3 axes comme montré dans la figure d'exemple ci-dessous. \n",
    "\n",
    "![Évolution du nombre de développeurs SSE vs LOC](plot_sse_vs_loc_by_version.png)\n",
    "\n",
    "En traçant cette figure vous devriez observer une particularité commune aux deux courbes, faite part de cette observation dans la case textutelle ci-desssous. "
   ]
  },
  {
   "cell_type": "markdown",
   "metadata": {},
   "source": [
    "**Observation** :  On constate qu'en general, les deux courbes ont tendance à toutes croitres à chaque nouvelle version "
   ]
  },
  {
   "cell_type": "code",
   "execution_count": 246,
   "metadata": {},
   "outputs": [
    {
     "data": {
      "text/plain": [
       "[<matplotlib.lines.Line2D at 0x162826d3d90>]"
      ]
     },
     "execution_count": 246,
     "metadata": {},
     "output_type": "execute_result"
    },
    {
     "data": {
      "image/png": "[encoded data removed]",
      "text/plain": [
       "<Figure size 432x288 with 2 Axes>"
      ]
     },
     "metadata": {
      "needs_background": "light"
     },
     "output_type": "display_data"
    }
   ],
   "source": [
    "#fig, ax1 = plt.subplots()\n",
    "\n",
    "#Création d'un deuxième axe Y \n",
    "\n",
    "#ax2 = ax1.twinx()\n",
    "x = np.array(nbrSSE)\n",
    "y = np.array(versions)\n",
    "z = np.array(loc_by_versions)\n",
    "#plt.xticks(rotation=90)\n",
    "#ax1.plot(y,x)\n",
    "#ax2.plot(z,x)\n",
    "\n",
    "#plt.show()\n",
    "fig, ax1 = plt.subplots()\n",
    "\n",
    "#ax1 = fig.add_subplot(111)\n",
    "\n",
    "ax1.plot(y, x)\n",
    "plt.xticks(rotation=90)\n",
    "ax1.set_xlabel('Versions',color='Green')\n",
    "ax1.set_ylabel('SSE developpers',color='Blue')\n",
    "ax2 = ax1.twinx()\n",
    "ax2.set_ylabel('LOC',color='Brown')\n",
    "\n",
    "ax2.plot(x, z,color='Red')\n",
    "\n",
    "#ax2.set_xticklabels([x * 2 for x in ax1.get_xticks()])\n"
   ]
  },
  {
   "cell_type": "markdown",
   "metadata": {},
   "source": [
    "## 5) Création d'un estimateur du nombre de développeurs expérimentés en fonction de la taille du projet (LoC)\n",
    "\n",
    "\n",
    "Nous avons maintenant l'ensemble des données permettant de créer un estimateur du nombre de développeurs expérimentés en fonction du nombre de ligne de code du projet. \n",
    "Pour ce faire, nous allons mettre en oeuvre un estimateur basé sur une régression linéaire : <code> LinearRegression </code> ([documentation](https://scikit-learn.org/stable/modules/generated/sklearn.linear_model.LinearRegression.html)). Cet estimateur utilise la méthode des moindres carrés afin d'ajuster une droite d'équation *ax+b+e* où *a* est le coefficient directeur, *b* l'ordonnée à l'origine et *e* l'erreur liée aux moindres carrés. \n",
    "\n",
    "Pour cela nous allons : \n",
    "1. Créer un objet LinearRegression et l'ajuster sur <code> X </code> et <code> y </code> à l'aide de la méthode <code> fit </code>.\n",
    "2. Afficher le coefficient de régression sur <code> X </code> et <code> y </code>.\n",
    "3. Déterminer le coefficient de détermination linéaire avec la fonction <code> r2_score </code> ([documentation](https://scikit-learn.org/stable/modules/model_evaluation.html#r2-score)) qui mesure l'ajustement entre les prédiction du classifieur sur les données <code> X </code> par rapport aux sorties <code> y </code>, plus il proche de 1 meilleures sont les prédictions. \n",
    "4. Prédire le nombre de développeurs expérimentés SSE pour 150000, 180000 et 200000 lignes de code. \n",
    "5. Tracer un graphique semblable à la figure d'exemple ci-desssous :\n",
    "\n",
    "![](plot_sse_loc_prediction.png)\n",
    "\n",
    "Les points noirs sont les données déjà connues à savoir le nombre de développeurs expérimentés et le nombre de lignes de code pour chaque version. Les point rouges correspondent aux trois valeurs prédites pour 150000, 180000 et 200000 lignes. La droite bleu est la droite de régression. Pour tracer ce graphique vous pouvez vous inspirer de cet [exemple Scikit-Learn ](https://scikit-learn.org/stable/auto_examples/linear_model/plot_ols.html#sphx-glr-auto-examples-linear-model-plot-ols-py). \n",
    "\n",
    "Voilà vous êtes maintenant capable de prédire vos besoins en ressources humaines en fonction de la taille de votre projet :) ! "
   ]
  },
  {
   "cell_type": "code",
   "execution_count": null,
   "metadata": {},
   "outputs": [],
   "source": [
    "#Valeurs X et y à utiliser pour entrainer et évaluer le régresseur\n",
    "from sklearn.metrics import r2_score\n",
    "X = np.array(loc_by_versions).reshape(-1,1)\n",
    "y = np.array(nbrSSE).reshape(-1,1)\n",
    "reg = LinearRegression().fit(X, y)\n",
    "coef = reg.score(X, y)\n",
    "print('coefficient of regression:', coef)\n",
    "\n",
    "print(\"Coefficient of Determination :\",r2_score(X, y))\n",
    "# Values to predict :\n",
    "values_to_predict = [150000,180000,200000]\n",
    "val = np.array(values_to_predict).reshape(-1,1)\n",
    "result = reg.predict(val)\n",
    "i=0\n",
    "results = []\n",
    "for res in result:\n",
    "    print(\"For number LOC :\",values_to_predict[i],\" Number of SSE dev predicted :\",int(res[0].round()))\n",
    "    results.append(int(res[0].round()))\n",
    "    i=i+1\n",
    "\n",
    "ax = np.array(nbrSSE)\n",
    "ay = np.array(loc_by_versions)\n",
    "\n",
    "\n"
   ]
  },
  {
   "cell_type": "code",
   "execution_count": 511,
   "metadata": {},
   "outputs": [
    {
     "data": {
      "image/png": "[encoded data removed]",
      "text/plain": [
       "<Figure size 432x288 with 1 Axes>"
      ]
     },
     "metadata": {
      "needs_background": "light"
     },
     "output_type": "display_data"
    }
   ],
   "source": [
    "fig, ax1 = plt.subplots()\n",
    "\n",
    "#ax1 = fig.add_subplot(111)\n",
    "\n",
    "ax1.plot(ay, ax, \"o\")\n",
    "m, b = np.polyfit(ay, ax, 1)\n",
    "plt.plot(ay, m*ay + b)\n",
    "#plt.xticks(rotation=90)\n",
    "ax1.set_xlabel('Number of LOC',color='Green')\n",
    "ax1.set_ylabel('SSE developpers',color='Blue')\n",
    "\n",
    "ax2.set_ylabel('LOC',color='Brown')\n",
    "\n",
    "axe2=ax1.plot(values_to_predict, results,'o',color='Red')\n"
   ]
  },
  {
   "cell_type": "code",
   "execution_count": null,
   "metadata": {},
   "outputs": [],
   "source": []
  },
  {
   "cell_type": "markdown",
   "metadata": {},
   "source": [
    "---\n",
    "\n",
    "## Bonus\n",
    "\n",
    "Jusque là nous avons utilisé un classifieur Random Forest déjà entrainé puis sauvegardé au format Pickle (sérialisation). Dans le bloc de code ci-dessous vous trouverez le code qui a permis la création de ce classifieur. \n",
    "\n",
    "Ce code est découpé en plusieurs parties:\n",
    "\n",
    "* Ouverture du CSV contenant les développeurs et leurs métriques avec Pandas\n",
    "* Suppresssion des colonnes non utilisées pour la classification\n",
    "* Transformation des variables (logarithme et mise à l'échelle)\n",
    "* Création de l'objet permettant de générer des données synthétiques. Les données synthétiques permettent de contrebalancer le fait que nous n'ayons que peu de données dans la classe des développeurs expérimentés. \n",
    "* Création du classifieur ici un random forest\n",
    "* Évaluation du classifieur via 4-fold stratifié ([documentation](https://scikit-learn.org/stable/modules/generated/sklearn.model_selection.StratifiedKFold.html?highlight=stratifiedkfold#sklearn.model_selection.StratifiedKFold))\n",
    "* Génération de données synthétiques sur l'ensemble du jeu de données puis entrainement du modèle\n",
    "* Sauvegarde du modèle au format pickle\n",
    "\n",
    "Vous pouvez modifier plusieurs choses qui vont influer sur la qualité de votre classifieur :  \n",
    "- Les variables utilisées. Nous utilisons ici 23 métriques. Vous pouvez en supprimer dans le dataframe Pandas et constater l'effet. \n",
    "- Le scaler utilisé, ici un MinMax pour mettre les variables dans l'intervalle [-1,1] ([documentation sur les types de scaler](https://www.datacorner.fr/feature-scaling/))\n",
    "- Le type de classifieur utilisé (ici Random Forest) et ses paramètres. Vous pouvez choisir un autre classifieur parmis ceux fournis par le package Scikit Learn ([documentation](https://scikit-learn.org/stable/auto_examples/classification/plot_classifier_comparison.html#sphx-glr-auto-examples-classification-plot-classifier-comparison-py))\n",
    "- L'utilisation ou non de la génération de données synthétiques. \n",
    "\n",
    "\n",
    "\n",
    " "
   ]
  },
  {
   "cell_type": "markdown",
   "metadata": {
    "pycharm": {
     "name": "#%% md\n"
    }
   },
   "source": [
    "Returns labels (y)"
   ]
  },
  {
   "cell_type": "code",
   "execution_count": 5,
   "metadata": {
    "pycharm": {
     "name": "#%%\n"
    }
   },
   "outputs": [],
   "source": [
    "def get_labels(df):\n",
    "    df.loc[df['job'] == \"SA\", 'job'] = \"SSE\"\n",
    "    df.loc[df['job'] != \"SSE\", 'job'] = \"NSSE\"\n",
    "\n",
    "    return df[\"job\"]"
   ]
  },
  {
   "cell_type": "markdown",
   "metadata": {
    "pycharm": {
     "name": "#%% md\n"
    }
   },
   "source": [
    "Scales data according to the scaler given as input"
   ]
  },
  {
   "cell_type": "code",
   "execution_count": 6,
   "metadata": {
    "pycharm": {
     "name": "#%%\n"
    }
   },
   "outputs": [],
   "source": [
    "def scaling(scaler, X):\n",
    "    return scaler.fit_transform(X)"
   ]
  },
  {
   "cell_type": "markdown",
   "metadata": {
    "pycharm": {
     "name": "#%% md\n"
    }
   },
   "source": [
    "Creates synthetic data with original data using smote method."
   ]
  },
  {
   "cell_type": "code",
   "execution_count": 7,
   "metadata": {
    "pycharm": {
     "name": "#%%\n"
    }
   },
   "outputs": [],
   "source": [
    "def create_synthetic_data(smote, X_scaled, y):\n",
    "    return smote.fit_resample(X_scaled, y)"
   ]
  },
  {
   "cell_type": "markdown",
   "metadata": {
    "pycharm": {
     "name": "#%% md\n"
    }
   },
   "source": [
    "Train the classifier with synthetic data an create a classification report on original data"
   ]
  },
  {
   "cell_type": "code",
   "execution_count": 8,
   "metadata": {
    "pycharm": {
     "name": "#%%\n"
    }
   },
   "outputs": [],
   "source": [
    "def train_and_classification_report(classifier, X_synthetic, y_synthetic, X_scaled, y):\n",
    "    classifier.fit(X_synthetic, y_synthetic)\n",
    "    print(classification_report(y, classifier.predict(X_scaled)))"
   ]
  },
  {
   "cell_type": "code",
   "execution_count": 9,
   "metadata": {
    "pycharm": {
     "name": "#%%\n"
    }
   },
   "outputs": [],
   "source": [
    "def stratifiedKFold_scoring(classifier, X_scaled, y, smote = None):\n",
    "    kf = StratifiedKFold(n_splits=4, shuffle=False)#, random_state=0)\n",
    "    print(\"===> Start kfold <===\")\n",
    "    scores = {\"F1\": {\"values\" : []}, \"Recall\": {\"values\" : []},\n",
    "              \"Precision\": {\"values\" : []}, \"Balanced\\nAccuracy\" : {\"values\" : []}}\n",
    "\n",
    "    for fold, (train_index, test_index) in enumerate(kf.split(X_scaled, y), 1):\n",
    "        print(\"=> Fold : \",fold)\n",
    "        #print(\"TRAIN:\", train_index, \"TEST:\", test_index)\n",
    "        X_train = X_scaled[train_index]\n",
    "        y_train = y[train_index]\n",
    "        X_test = X_scaled[test_index]\n",
    "        y_test = y[test_index]\n",
    "\n",
    "        if smote is not None:\n",
    "            X_train_synthetic, y_train_synthetic = smote.fit_resample(X_train, y_train)\n",
    "            classifier.fit(X_train_synthetic, y_train_synthetic)\n",
    "        else:\n",
    "            classifier.fit(X_train, y_train)\n",
    "        y_pred = classifier.predict(X_test)\n",
    "\n",
    "        f1 = f1_score(y_test, y_pred, pos_label=\"SSE\")\n",
    "        recall = recall_score(y_test, y_pred, pos_label=\"SSE\")\n",
    "        precision = precision_score(y_test, y_pred, pos_label=\"SSE\")\n",
    "        accuracy = balanced_accuracy_score(y_test, y_pred)\n",
    "\n",
    "        scores[\"F1\"][\"values\"].append(f1)\n",
    "        scores[\"Recall\"][\"values\"].append(recall)\n",
    "        scores[\"Precision\"][\"values\"].append(precision)\n",
    "        scores[\"Balanced\\nAccuracy\"][\"values\"].append(accuracy)\n",
    "\n",
    "    for key in scores:\n",
    "        scores[key][\"values\"] = np.array(scores[key][\"values\"])\n",
    "        scores[key][\"mean\"] = np.mean(scores[key][\"values\"])\n",
    "        scores[key][\"std\"] = np.std(scores[key][\"values\"])\n",
    "        scores[key][\"ci95\"] = np.std(scores[key][\"values\"]) * 2\n",
    "\n",
    "        print(key, \"mean :%0.4f\" % scores[key][\"mean\"])\n",
    "        print(key, \"std : %0.4f\" % scores[key][\"std\"])\n",
    "        print(key, \"95%% Confidence Interval +/- %0.4f\" % (scores[key][\"ci95\"]))\n",
    "        print()\n",
    "    return scores"
   ]
  },
  {
   "cell_type": "code",
   "execution_count": 1,
   "metadata": {},
   "outputs": [],
   "source": [
    "from sklearn.cluster import MiniBatchKMeans\n",
    "kmeans = MiniBatchKMeans(n_clusters=5, random_state=0,batch_size=1024)\n",
    "OMP_NUM_THREADS = 1\n"
   ]
  },
  {
   "cell_type": "code",
   "execution_count": 14,
   "metadata": {
    "pycharm": {
     "name": "#%%\n"
    },
    "scrolled": true
   },
   "outputs": [
    {
     "name": "stdout",
     "output_type": "stream",
     "text": [
      "===> Start kfold <===\n",
      "=> Fold :  1\n",
      "=> Fold :  2\n",
      "=> Fold :  3\n",
      "=> Fold :  4\n",
      "F1 mean :0.7501\n",
      "F1 std : 0.0482\n",
      "F1 95% Confidence Interval +/- 0.0964\n",
      "\n",
      "Recall mean :0.7021\n",
      "Recall std : 0.1111\n",
      "Recall 95% Confidence Interval +/- 0.2222\n",
      "\n",
      "Precision mean :0.8309\n",
      "Precision std : 0.0812\n",
      "Precision 95% Confidence Interval +/- 0.1624\n",
      "\n",
      "Balanced\n",
      "Accuracy mean :0.8378\n",
      "Balanced\n",
      "Accuracy std : 0.0481\n",
      "Balanced\n",
      "Accuracy 95% Confidence Interval +/- 0.0961\n",
      "\n"
     ]
    }
   ],
   "source": [
    "df = pd.read_csv(\"dataset_dev_anonymized.csv\")\n",
    "y = get_labels(df)\n",
    "\n",
    "delete_unused_columns(df)\n",
    "\n",
    "log_dataframe(df)\n",
    "scaler = MinMaxScaler(feature_range=(-1,1))\n",
    "\n",
    "X = df\n",
    "X_scaled = scaling(scaler, X)\n",
    "\n",
    "#Instanciation du générateur de données synthétiques à l'aide de la méthode k-means SMOTE\n",
    "smote = KMeansSMOTE(sampling_strategy='minority', random_state=9090)\n",
    "#Création du classifieur RF\n",
    "classifier = RandomForestClassifier(criterion='gini', max_depth=None, max_features='log2', n_estimators=75, random_state=0)\n",
    "\n",
    "#Évaluation du classifieur à l'aide d'un 4-fold stratifié\n",
    "stratifiedKFold_scoring(classifier, X_scaled, y, smote = smote)\n",
    "\n",
    "#Génération de données synthétiques sur l'ensemble des données\n",
    "X_synthetic, y_synthetic = smote.fit_resample(X_scaled, y)\n",
    "#Entrainement du classifieur sur les données synthétiques\n",
    "classifier.fit(X_synthetic, y_synthetic)\n",
    "#Sauvegarde du classifieur (sérialisation) \n",
    "pickle.dump(classifier, open(\"classifier_rf.pkl\", 'wb'))\n"
   ]
  },
  {
   "cell_type": "code",
   "execution_count": 12,
   "metadata": {},
   "outputs": [
    {
     "ename": "SyntaxError",
     "evalue": "invalid syntax (<ipython-input-12-c004e8d2e722>, line 3)",
     "output_type": "error",
     "traceback": [
      "\u001b[1;36m  File \u001b[1;32m\"<ipython-input-12-c004e8d2e722>\"\u001b[1;36m, line \u001b[1;32m3\u001b[0m\n\u001b[1;33m    jupyter nbconvert --to webpdf --allow-chromium-download developers_classification.ipynb\u001b[0m\n\u001b[1;37m            ^\u001b[0m\n\u001b[1;31mSyntaxError\u001b[0m\u001b[1;31m:\u001b[0m invalid syntax\n"
     ]
    }
   ],
   "source": [
    "#conda install -c conda-forge pyppeteer\n",
    "#!pip install nbconvert\n",
    "jupyter nbconvert --to webpdf --allow-chromium-download developers_classification.ipynb\n"
   ]
  }
 ],
 "metadata": {
  "interpreter": {
   "hash": "b972025ffaeb9fad2e6c47485e66bc7f129e1b41ab4934c78195a6e21efd40ea"
  },
  "kernelspec": {
   "display_name": "Python 3",
   "language": "python",
   "name": "python3"
  },
  "language_info": {
   "codemirror_mode": {
    "name": "ipython",
    "version": 3
   },
   "file_extension": ".py",
   "mimetype": "text/x-python",
   "name": "python",
   "nbconvert_exporter": "python",
   "pygments_lexer": "ipython3",
   "version": "3.8.8"
  }
 },
 "nbformat": 4,
 "nbformat_minor": 1
}
